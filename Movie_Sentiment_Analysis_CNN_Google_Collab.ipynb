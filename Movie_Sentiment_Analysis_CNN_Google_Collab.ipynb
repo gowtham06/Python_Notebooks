{
  "nbformat": 4,
  "nbformat_minor": 0,
  "metadata": {
    "colab": {
      "name": "Movie_Sentiment_Analysis_CNN_Google_Collab",
      "version": "0.3.2",
      "views": {},
      "default_view": {},
      "provenance": [],
      "collapsed_sections": []
    },
    "kernelspec": {
      "name": "python3",
      "display_name": "Python 3"
    },
    "accelerator": "GPU"
  },
  "cells": [
    {
      "metadata": {
        "id": "8AJxANuakL_v",
        "colab_type": "text"
      },
      "cell_type": "markdown",
      "source": [
        "Uploading the data file to google drive. This does not need to be executed if running on local anaconda machine."
      ]
    },
    {
      "metadata": {
        "id": "-XAej4Xa4bng",
        "colab_type": "code",
        "colab": {
          "autoexec": {
            "startup": false,
            "wait_interval": 0
          },
          "resources": {
            "http://localhost:8080/nbextensions/google.colab/files.js": {
              "data": "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",
              "ok": true,
              "headers": [
                [
                  "content-type",
                  "application/javascript"
                ]
              ],
              "status": 200,
              "status_text": ""
            }
          },
          "base_uri": "https://localhost:8080/",
          "height": 86
        },
        "outputId": "ded73aa7-4e3c-46f6-f7f5-e1d540daf3ab",
        "executionInfo": {
          "status": "ok",
          "timestamp": 1523913162025,
          "user_tz": 240,
          "elapsed": 235007,
          "user": {
            "displayName": "gowtham kannan",
            "photoUrl": "//lh4.googleusercontent.com/-lkJ8joXHWfU/AAAAAAAAAAI/AAAAAAAAMDA/JcDtcIIMA9E/s50-c-k-no/photo.jpg",
            "userId": "109043115765775148287"
          }
        }
      },
      "cell_type": "code",
      "source": [
        "from google.colab import files\n",
        "\n",
        "uploaded = files.upload()\n",
        "\n",
        "for fn in uploaded.keys():\n",
        "  print('User uploaded file \"{name}\" with length {length} bytes'.format(\n",
        "      name=fn, length=len(uploaded[fn])))"
      ],
      "execution_count": 1,
      "outputs": [
        {
          "output_type": "display_data",
          "data": {
            "text/html": [
              "\n",
              "     <input type=\"file\" id=\"files-312f890e-d145-44c1-81d8-27a4231ce6ca\" name=\"files[]\" multiple disabled />\n",
              "     <output id=\"result-312f890e-d145-44c1-81d8-27a4231ce6ca\">\n",
              "      Upload widget is only available when the cell has been executed in the\n",
              "      current browser session. Please rerun this cell to enable.\n",
              "      </output>\n",
              "      <script src=\"/nbextensions/google.colab/files.js\"></script> "
            ],
            "text/plain": [
              "<IPython.core.display.HTML object>"
            ]
          },
          "metadata": {
            "tags": []
          }
        },
        {
          "output_type": "stream",
          "text": [
            "Saving review_text.txt to review_text.txt\n",
            "User uploaded file \"review_text.txt\" with length 66033508 bytes\n"
          ],
          "name": "stdout"
        }
      ]
    },
    {
      "metadata": {
        "id": "xHOIMNW0kUyt",
        "colab_type": "text"
      },
      "cell_type": "markdown",
      "source": [
        "Initalizing the current directory and data file name"
      ]
    },
    {
      "metadata": {
        "id": "yzJQYvZg6FCr",
        "colab_type": "code",
        "colab": {
          "autoexec": {
            "startup": false,
            "wait_interval": 0
          }
        }
      },
      "cell_type": "code",
      "source": [
        "import os\n",
        "file_name='review_text.txt'\n",
        "current_dir= os.getcwd()"
      ],
      "execution_count": 0,
      "outputs": []
    },
    {
      "metadata": {
        "id": "S99CFuKWkZ-w",
        "colab_type": "text"
      },
      "cell_type": "markdown",
      "source": [
        "Importing all the relevant packages needed for running the model"
      ]
    },
    {
      "metadata": {
        "id": "ZCGd7MpcPYkx",
        "colab_type": "code",
        "colab": {
          "autoexec": {
            "startup": false,
            "wait_interval": 0
          },
          "base_uri": "https://localhost:8080/",
          "height": 34
        },
        "outputId": "df599670-7fa2-49c1-ff0f-fd04036800d7",
        "executionInfo": {
          "status": "ok",
          "timestamp": 1523913213000,
          "user_tz": 240,
          "elapsed": 7821,
          "user": {
            "displayName": "gowtham kannan",
            "photoUrl": "//lh4.googleusercontent.com/-lkJ8joXHWfU/AAAAAAAAAAI/AAAAAAAAMDA/JcDtcIIMA9E/s50-c-k-no/photo.jpg",
            "userId": "109043115765775148287"
          }
        }
      },
      "cell_type": "code",
      "source": [
        "from keras.layers.core import Activation, Dense, Dropout, SpatialDropout1D\n",
        "from keras.layers.embeddings import Embedding\n",
        "from keras.layers.recurrent import LSTM\n",
        "from keras.models import Sequential\n",
        "from keras.preprocessing import sequence\n",
        "from keras.preprocessing.text import Tokenizer\n",
        "from keras.layers import Bidirectional\n",
        "from sklearn.model_selection import train_test_split\n",
        "from keras.models import Sequential\n",
        "from keras.layers import Dense\n",
        "from keras.layers import Flatten\n",
        "from keras.layers.convolutional import Conv1D\n",
        "from keras.layers.convolutional import MaxPooling1D\n",
        "from keras.layers.embeddings import Embedding\n",
        "from keras.preprocessing import sequence\n",
        "import numpy as np\n",
        "import collections\n",
        "import nltk"
      ],
      "execution_count": 3,
      "outputs": [
        {
          "output_type": "stream",
          "text": [
            "Using TensorFlow backend.\n"
          ],
          "name": "stderr"
        }
      ]
    },
    {
      "metadata": {
        "id": "pUBzJxiqkgYZ",
        "colab_type": "text"
      },
      "cell_type": "markdown",
      "source": [
        "Downloading the nltk package for word tokenization"
      ]
    },
    {
      "metadata": {
        "id": "w_ysck6LQGhi",
        "colab_type": "code",
        "colab": {
          "autoexec": {
            "startup": false,
            "wait_interval": 0
          },
          "base_uri": "https://localhost:8080/",
          "height": 68
        },
        "outputId": "847f4756-f8dd-4ddc-c4d3-7c0350da9994",
        "executionInfo": {
          "status": "ok",
          "timestamp": 1523913218919,
          "user_tz": 240,
          "elapsed": 865,
          "user": {
            "displayName": "gowtham kannan",
            "photoUrl": "//lh4.googleusercontent.com/-lkJ8joXHWfU/AAAAAAAAAAI/AAAAAAAAMDA/JcDtcIIMA9E/s50-c-k-no/photo.jpg",
            "userId": "109043115765775148287"
          }
        }
      },
      "cell_type": "code",
      "source": [
        "import nltk\n",
        "nltk.download('punkt')"
      ],
      "execution_count": 4,
      "outputs": [
        {
          "output_type": "stream",
          "text": [
            "[nltk_data] Downloading package punkt to /content/nltk_data...\n",
            "[nltk_data]   Unzipping tokenizers/punkt.zip.\n"
          ],
          "name": "stdout"
        },
        {
          "output_type": "execute_result",
          "data": {
            "text/plain": [
              "True"
            ]
          },
          "metadata": {
            "tags": []
          },
          "execution_count": 4
        }
      ]
    },
    {
      "metadata": {
        "id": "TSDUXIW9kq0_",
        "colab_type": "text"
      },
      "cell_type": "markdown",
      "source": [
        "Processing the data file"
      ]
    },
    {
      "metadata": {
        "id": "vireR4YMPjnk",
        "colab_type": "code",
        "colab": {
          "autoexec": {
            "startup": false,
            "wait_interval": 0
          }
        }
      },
      "cell_type": "code",
      "source": [
        "max_len = 0\n",
        "word_freqs = collections.Counter()\n",
        "num_recs = 0\n",
        "# DATA_DIR='/Users/gowthamkannan/Desktop/Assignments/Computational_Linguistics/Assignment_2/pos_tagger/data'\n",
        "# DATA_FILE='dialogues.txt'\n",
        "ftrain = open(os.path.join(current_dir, file_name), 'rb')\n",
        "label_list=[]\n",
        "for line in ftrain:\n",
        "    words=[]\n",
        "#     sentence=line.strip().split('\\t')[0]\n",
        "#     label=line.strip().split('\\t')[1]\n",
        "    sentence=line.strip().split(b'DELIMETER')[0]\n",
        "    label=line.strip().split(b'DELIMETER')[1]\n",
        "    \n",
        "#     print(label,sentence)\n",
        "    words = nltk.word_tokenize(sentence.decode(\"ascii\", \"ignore\").lower())\n",
        "    label=label.decode(\"ascii\",\"ignore\").lower()\n",
        "    label_list.append(label)\n",
        "#     for item in words_temp:\n",
        "#         if item not in stopwords_list:\n",
        "#             words.append(item)\n",
        "    if len(words) > max_len:\n",
        "        max_len = len(words)\n",
        "    for word in words:\n",
        "        word_freqs[word] += 1\n",
        "    num_recs += 1\n",
        "# print(word_freqs)\n",
        "label_list=list(set(label_list))\n",
        "nos_classes=len(label_list)\n",
        "# print(len(label_list))\n",
        "ftrain.close()\n",
        "MAX_FEATURES=5000\n",
        "MAX_SENTENCE_LENGTH=500"
      ],
      "execution_count": 0,
      "outputs": []
    },
    {
      "metadata": {
        "id": "_rNV88sJkx8g",
        "colab_type": "text"
      },
      "cell_type": "markdown",
      "source": [
        "Creating the vocabulary needed for word embedding"
      ]
    },
    {
      "metadata": {
        "id": "qHhyRLzvPlkF",
        "colab_type": "code",
        "colab": {
          "autoexec": {
            "startup": false,
            "wait_interval": 0
          }
        }
      },
      "cell_type": "code",
      "source": [
        "vocab_size = min(MAX_FEATURES, len(word_freqs)) + 2\n",
        "word2index = {x[0]: i+2 for i, x in\n",
        "enumerate(word_freqs.most_common(MAX_FEATURES))}\n",
        "word2index[\"PAD\"] = 0\n",
        "word2index[\"UNK\"] = 1\n",
        "index2word = {v:k for k, v in word2index.items()}"
      ],
      "execution_count": 0,
      "outputs": []
    },
    {
      "metadata": {
        "id": "IFV00h3bk58M",
        "colab_type": "text"
      },
      "cell_type": "markdown",
      "source": [
        "Creating the input vector and the output label vector"
      ]
    },
    {
      "metadata": {
        "id": "c4jLQDSfPn1E",
        "colab_type": "code",
        "colab": {
          "autoexec": {
            "startup": false,
            "wait_interval": 0
          },
          "base_uri": "https://localhost:8080/",
          "height": 34
        },
        "outputId": "05020623-c94d-4d9a-9ab0-bf5396b05a72",
        "executionInfo": {
          "status": "ok",
          "timestamp": 1523913683196,
          "user_tz": 240,
          "elapsed": 95425,
          "user": {
            "displayName": "gowtham kannan",
            "photoUrl": "//lh4.googleusercontent.com/-lkJ8joXHWfU/AAAAAAAAAAI/AAAAAAAAMDA/JcDtcIIMA9E/s50-c-k-no/photo.jpg",
            "userId": "109043115765775148287"
          }
        }
      },
      "cell_type": "code",
      "source": [
        "X = np.empty((num_recs, ), dtype=list)\n",
        "nos_classes=2\n",
        "y = np.zeros((num_recs, nos_classes))\n",
        "i = 0\n",
        "f_train = open(os.path.join(current_dir, file_name), 'rb')\n",
        "for line in f_train:\n",
        "#     label,sentence=line.strip().split('\\t')\n",
        "    words=[]\n",
        "    sentence=line.strip().split(b'DELIMETER')[0]\n",
        "    label=line.strip().split(b'DELIMETER')[1]\n",
        "    words = nltk.word_tokenize(sentence.decode(\"ascii\", \"ignore\").lower())\n",
        "    label=label.decode(\"ascii\",\"ignore\").lower()\n",
        "    label_list.append(label)\n",
        "#     for item in words_temp:\n",
        "#         if item not in stopwords_list:\n",
        "#             words.append(item)\n",
        "    seqs=[]\n",
        "    l=[0]*nos_classes\n",
        "    for word in words:\n",
        "        if word in word2index.keys():\n",
        "            seqs.append(word2index[word])\n",
        "        else:\n",
        "            seqs.append(word2index['UNK'])\n",
        "    X[i]=seqs\n",
        "    l[label_list.index(label)]=1\n",
        "    y[i]=l\n",
        "    i+=1\n",
        "f_train.close()\n",
        "print(MAX_SENTENCE_LENGTH)\n",
        "\n",
        "X=sequence.pad_sequences(X,maxlen=MAX_SENTENCE_LENGTH)"
      ],
      "execution_count": 9,
      "outputs": [
        {
          "output_type": "stream",
          "text": [
            "500\n"
          ],
          "name": "stdout"
        }
      ]
    },
    {
      "metadata": {
        "id": "elZDRWcXk_Rh",
        "colab_type": "text"
      },
      "cell_type": "markdown",
      "source": [
        "Splitting the dataset for training and testing"
      ]
    },
    {
      "metadata": {
        "id": "PPh431QGPqE9",
        "colab_type": "code",
        "colab": {
          "autoexec": {
            "startup": false,
            "wait_interval": 0
          }
        }
      },
      "cell_type": "code",
      "source": [
        "Xtrain,Xtest,ytrain,ytest=train_test_split(X,y,test_size=0.2)\n",
        "# print(ytrain.shape)"
      ],
      "execution_count": 0,
      "outputs": []
    },
    {
      "metadata": {
        "id": "PPCluWdFlKwz",
        "colab_type": "text"
      },
      "cell_type": "markdown",
      "source": [
        "Initializing the CNN model for movie data sentiment classification"
      ]
    },
    {
      "metadata": {
        "id": "QU8x5TiRPsy-",
        "colab_type": "code",
        "colab": {
          "autoexec": {
            "startup": false,
            "wait_interval": 0
          },
          "base_uri": "https://localhost:8080/",
          "height": 615
        },
        "outputId": "c352c201-bf29-4ab4-d8ed-b0cd96b0460a",
        "executionInfo": {
          "status": "ok",
          "timestamp": 1523913732729,
          "user_tz": 240,
          "elapsed": 525,
          "user": {
            "displayName": "gowtham kannan",
            "photoUrl": "//lh4.googleusercontent.com/-lkJ8joXHWfU/AAAAAAAAAAI/AAAAAAAAMDA/JcDtcIIMA9E/s50-c-k-no/photo.jpg",
            "userId": "109043115765775148287"
          }
        }
      },
      "cell_type": "code",
      "source": [
        "model = Sequential()\n",
        "model.add(Embedding(vocab_size, MAX_SENTENCE_LENGTH, input_length=MAX_SENTENCE_LENGTH))\n",
        "model.add(Conv1D(filters=100, kernel_size=10, padding='same', activation='relu'))\n",
        "model.add(MaxPooling1D(pool_size=5))\n",
        "model.add(Conv1D(filters=100, kernel_size=10, padding='same', activation='relu'))\n",
        "model.add(MaxPooling1D(pool_size=5))\n",
        "model.add(Conv1D(filters=32, kernel_size=10, padding='same', activation='relu'))\n",
        "model.add(MaxPooling1D(pool_size=3))\n",
        "model.add(Flatten())\n",
        "model.add(Dense(100, activation='relu'))\n",
        "model.add(Dense(nos_classes, activation='sigmoid'))\n",
        "model.compile(loss='binary_crossentropy', optimizer='adam', metrics=['accuracy'])\n",
        "print(model.summary())"
      ],
      "execution_count": 11,
      "outputs": [
        {
          "output_type": "stream",
          "text": [
            "WARNING:tensorflow:From /usr/local/lib/python3.6/dist-packages/tensorflow/python/util/deprecation.py:497: calling conv1d (from tensorflow.python.ops.nn_ops) with data_format=NHWC is deprecated and will be removed in a future version.\n",
            "Instructions for updating:\n",
            "`NHWC` for data_format is deprecated, use `NWC` instead\n"
          ],
          "name": "stdout"
        },
        {
          "output_type": "stream",
          "text": [
            "WARNING:tensorflow:From /usr/local/lib/python3.6/dist-packages/tensorflow/python/util/deprecation.py:497: calling conv1d (from tensorflow.python.ops.nn_ops) with data_format=NHWC is deprecated and will be removed in a future version.\n",
            "Instructions for updating:\n",
            "`NHWC` for data_format is deprecated, use `NWC` instead\n"
          ],
          "name": "stderr"
        },
        {
          "output_type": "stream",
          "text": [
            "_________________________________________________________________\n",
            "Layer (type)                 Output Shape              Param #   \n",
            "=================================================================\n",
            "embedding_1 (Embedding)      (None, 500, 500)          2501000   \n",
            "_________________________________________________________________\n",
            "conv1d_1 (Conv1D)            (None, 500, 100)          500100    \n",
            "_________________________________________________________________\n",
            "max_pooling1d_1 (MaxPooling1 (None, 100, 100)          0         \n",
            "_________________________________________________________________\n",
            "conv1d_2 (Conv1D)            (None, 100, 100)          100100    \n",
            "_________________________________________________________________\n",
            "max_pooling1d_2 (MaxPooling1 (None, 20, 100)           0         \n",
            "_________________________________________________________________\n",
            "conv1d_3 (Conv1D)            (None, 20, 32)            32032     \n",
            "_________________________________________________________________\n",
            "max_pooling1d_3 (MaxPooling1 (None, 6, 32)             0         \n",
            "_________________________________________________________________\n",
            "flatten_1 (Flatten)          (None, 192)               0         \n",
            "_________________________________________________________________\n",
            "dense_1 (Dense)              (None, 100)               19300     \n",
            "_________________________________________________________________\n",
            "dense_2 (Dense)              (None, 2)                 202       \n",
            "=================================================================\n",
            "Total params: 3,152,734\n",
            "Trainable params: 3,152,734\n",
            "Non-trainable params: 0\n",
            "_________________________________________________________________\n",
            "None\n"
          ],
          "name": "stdout"
        }
      ]
    },
    {
      "metadata": {
        "id": "R0eFqv5NlUbI",
        "colab_type": "text"
      },
      "cell_type": "markdown",
      "source": [
        "Fitting the model"
      ]
    },
    {
      "metadata": {
        "id": "bU-OuLVWPu3Y",
        "colab_type": "code",
        "colab": {
          "autoexec": {
            "startup": false,
            "wait_interval": 0
          },
          "base_uri": "https://localhost:8080/",
          "height": 411
        },
        "outputId": "23d2a458-177c-4d6b-f321-70b0b1f18720",
        "executionInfo": {
          "status": "ok",
          "timestamp": 1523914290501,
          "user_tz": 240,
          "elapsed": 552656,
          "user": {
            "displayName": "gowtham kannan",
            "photoUrl": "//lh4.googleusercontent.com/-lkJ8joXHWfU/AAAAAAAAAAI/AAAAAAAAMDA/JcDtcIIMA9E/s50-c-k-no/photo.jpg",
            "userId": "109043115765775148287"
          }
        }
      },
      "cell_type": "code",
      "source": [
        "history=model.fit(Xtrain,ytrain,batch_size=250,epochs=10,validation_data=(Xtest,ytest))\n",
        "# Final evaluation of the model\n",
        "scores = model.evaluate(Xtest, ytest, verbose=0)\n",
        "print(\"Accuracy: %.2f%%\" % (scores[1]*100))"
      ],
      "execution_count": 12,
      "outputs": [
        {
          "output_type": "stream",
          "text": [
            "Train on 40000 samples, validate on 10000 samples\n",
            "Epoch 1/10\n",
            "40000/40000 [==============================] - 56s 1ms/step - loss: 0.4199 - acc: 0.7729 - val_loss: 0.2503 - val_acc: 0.8987\n",
            "Epoch 2/10\n",
            "40000/40000 [==============================] - 54s 1ms/step - loss: 0.1944 - acc: 0.9237 - val_loss: 0.2384 - val_acc: 0.9038\n",
            "Epoch 3/10\n",
            "18500/40000 [============>.................] - ETA: 26s - loss: 0.1466 - acc: 0.9475"
          ],
          "name": "stdout"
        },
        {
          "output_type": "stream",
          "text": [
            "40000/40000 [==============================] - 55s 1ms/step - loss: 0.1454 - acc: 0.9469 - val_loss: 0.2428 - val_acc: 0.9081\n",
            "Epoch 4/10\n",
            "40000/40000 [==============================] - 55s 1ms/step - loss: 0.0908 - acc: 0.9696 - val_loss: 0.2804 - val_acc: 0.9033\n",
            "Epoch 5/10\n",
            "39750/40000 [============================>.] - ETA: 0s - loss: 0.0452 - acc: 0.9864"
          ],
          "name": "stdout"
        },
        {
          "output_type": "stream",
          "text": [
            "\b\b\b\b\b\b\b\b\b\b\b\b\b\b\b\b\b\b\b\b\b\b\b\b\b\b\b\b\b\b\b\b\b\b\b\b\b\b\b\b\b\b\b\b\b\b\b\b\b\b\b\b\b\b\b\b\b\b\b\b\b\b\b\b\b\b\b\b\b\b\b\b\b\b\b\b\b\b\b\b\b\b\b\r40000/40000 [==============================] - 55s 1ms/step - loss: 0.0451 - acc: 0.9864 - val_loss: 0.3892 - val_acc: 0.8937\n",
            "Epoch 6/10\n",
            "40000/40000 [==============================] - 55s 1ms/step - loss: 0.0241 - acc: 0.9928 - val_loss: 0.4109 - val_acc: 0.9013\n",
            "Epoch 7/10\n",
            "28500/40000 [====================>.........] - ETA: 14s - loss: 0.0101 - acc: 0.9969"
          ],
          "name": "stdout"
        },
        {
          "output_type": "stream",
          "text": [
            "40000/40000 [==============================] - 55s 1ms/step - loss: 0.0137 - acc: 0.9958 - val_loss: 0.4912 - val_acc: 0.8917\n",
            "Epoch 8/10\n",
            "40000/40000 [==============================] - 54s 1ms/step - loss: 0.0227 - acc: 0.9919 - val_loss: 0.4756 - val_acc: 0.8995\n",
            "Epoch 9/10\n",
            "40000/40000 [==============================] - 54s 1ms/step - loss: 0.0129 - acc: 0.9955 - val_loss: 0.4864 - val_acc: 0.9030\n",
            "Epoch 10/10\n",
            " 1250/40000 [..............................] - ETA: 48s - loss: 0.0050 - acc: 0.9984"
          ],
          "name": "stdout"
        },
        {
          "output_type": "stream",
          "text": [
            "40000/40000 [==============================] - 54s 1ms/step - loss: 0.0050 - acc: 0.9984 - val_loss: 0.6650 - val_acc: 0.8942\n",
            "Accuracy: 89.42%\n"
          ],
          "name": "stdout"
        }
      ]
    },
    {
      "metadata": {
        "id": "wsD5e-AvlYpH",
        "colab_type": "text"
      },
      "cell_type": "markdown",
      "source": [
        "Plotting accuracy and loss function for training and validation dataset"
      ]
    },
    {
      "metadata": {
        "id": "mNMY-gukR9Ak",
        "colab_type": "code",
        "colab": {
          "autoexec": {
            "startup": false,
            "wait_interval": 0
          },
          "base_uri": "https://localhost:8080/",
          "height": 401
        },
        "outputId": "941c896e-5b88-483b-c527-d16a6519ca9a",
        "executionInfo": {
          "status": "ok",
          "timestamp": 1523914351034,
          "user_tz": 240,
          "elapsed": 644,
          "user": {
            "displayName": "gowtham kannan",
            "photoUrl": "//lh4.googleusercontent.com/-lkJ8joXHWfU/AAAAAAAAAAI/AAAAAAAAMDA/JcDtcIIMA9E/s50-c-k-no/photo.jpg",
            "userId": "109043115765775148287"
          }
        }
      },
      "cell_type": "code",
      "source": [
        "import matplotlib.pyplot as plt\n",
        "plt.subplot(211)\n",
        "plt.title(\"Accuracy\")\n",
        "plt.plot(history.history[\"acc\"], color=\"g\", label=\"Train\")\n",
        "plt.plot(history.history[\"val_acc\"], color=\"b\", label=\"Validation\")\n",
        "plt.legend(loc=\"best\")\n",
        "plt.subplot(212)\n",
        "plt.title(\"Loss\")\n",
        "plt.plot(history.history[\"loss\"], color=\"g\", label=\"Train\")\n",
        "plt.plot(history.history[\"val_loss\"], color=\"b\", label=\"Validation\")\n",
        "plt.legend(loc=\"best\")\n",
        "plt.tight_layout()\n",
        "plt.show()"
      ],
      "execution_count": 13,
      "outputs": [
        {
          "output_type": "display_data",
          "data": {
            "image/png": "[encoded data removed]",
            "text/plain": [
              "<matplotlib.figure.Figure at 0x7f2a6c85c080>"
            ]
          },
          "metadata": {
            "tags": []
          }
        }
      ]
    },
    {
      "metadata": {
        "id": "DOfVY5NHlhC3",
        "colab_type": "text"
      },
      "cell_type": "markdown",
      "source": [
        "Testing the model for new data point."
      ]
    },
    {
      "metadata": {
        "id": "UlU_VosgSFRY",
        "colab_type": "code",
        "colab": {
          "autoexec": {
            "startup": false,
            "wait_interval": 0
          },
          "base_uri": "https://localhost:8080/",
          "height": 34
        },
        "outputId": "84afe4b6-8fce-438d-8816-2fda70208d19",
        "executionInfo": {
          "status": "ok",
          "timestamp": 1523914414905,
          "user_tz": 240,
          "elapsed": 282,
          "user": {
            "displayName": "gowtham kannan",
            "photoUrl": "//lh4.googleusercontent.com/-lkJ8joXHWfU/AAAAAAAAAAI/AAAAAAAAMDA/JcDtcIIMA9E/s50-c-k-no/photo.jpg",
            "userId": "109043115765775148287"
          }
        }
      },
      "cell_type": "code",
      "source": [
        "new_X = np.empty((1, ), dtype=list)\n",
        "test_sentence=\"this movie absolutely terrible ..not only was the acting awful but so was the sleep got while this movie played..this movie achieved the all powerful goal of crap ..i watched this movie thinking my 5$ wouldn't b in vein .but i was very wrong ..i guarantee u r better off just reading what i have to say about this unbelievably horrible movie b4 ..puttin yourself in the way of this dignity depriving movie ..i give it a negative 1 for trying..but no please no don't watch this movie..i had friends who joined me for this film..shortly after they were no longer found this movie actually will make u end your life please please don't see it i beg of u. if u see this movie make sure u destroy all copies because this movie is a spawn of Satan.\"\n",
        "test_sentence=\"\"\"It's a strange feeling to sit alone in a theater occupied by parents and their rollicking kids. I felt like instead of a movie ticket, I should have been given a NAMBLA membership.<br /><br />Based upon Thomas Rockwell's respected Book, How To Eat Fried Worms starts like any children's story: moving to a new town. The new kid, fifth grader Billy Forrester was once popular, but has to start anew. Making friends is never easy, especially when the only prospect is Poindexter Adam. Or Erica, who at 4 1/2 feet, is a giant.<br /><br />Further complicating things is Joe the bully. His freckled face and sleeveless shirts are daunting. He antagonizes kids with the Death Ring: a Crackerjack ring that is rumored to kill you if you're punched with it. But not immediately. No, the death ring unleashes a poison that kills you in the eight grade.<br /><br />Joe and his axis of evil welcome Billy by smuggling a handful of slimy worms into his thermos. Once discovered, Billy plays it cool, swearing that he eats worms all the time. Then he throws them at Joe's face. Ewww! To win them over, Billy reluctantly bets that he can eat 10 worms. Fried, boiled, marinated in hot sauce, squashed and spread on a peanut butter sandwich. Each meal is dubbed an exotic name like the \"Radioactive Slime Delight,\" in which the kids finally live out their dream of microwaving a living organism.<br /><br />If you've ever met me, you'll know that I have an uncontrollably hearty laugh. I felt like a creep erupting at a toddler whining that his \"dilly dick\" hurts. But Fried Worms is wonderfully disgusting. Like a G-rated Farrelly brothers film, it is both vomitous and delightful.<br /><br />Writer/director Bob Dolman is also a savvy storyteller. To raise the stakes the worms must be consumed by 7 pm. In addition Billy holds a dark secret: he has an ultra-sensitive stomach.<br /><br />Dolman also has a keen sense of perspective. With such accuracy, he draws on children's insecurities and tendency to exaggerate mundane dilemmas.<br /><br />If you were to hyperbolize this movie the way kids do their quandaries, you will see that it is essentially about war. Freedom-fighter and freedom-hater use pubescent boys as pawns in proxy wars, only to learn a valuable lesson in unity. International leaders can learn a thing or two about global peacekeeping from Fried Worms.<br /><br />At the end of the film, I was comforted when two chaperoning mothers behind me, looked at each other with befuddlement and agreed, \"That was a great movie.\" Great, now I won't have to register myself in any lawful databases\"\"\"\n",
        "# test_sentence=\"\"\"It's hard to say sometimes why exactly a film is so effective. From the moment I first came across \"The Stone Boy\", something told me it would be a great film. In spite of that, it seemed very unlikely that I'd ever have the opportunity to actually see it for myself. Then, one day, while looking through the online catalogue of my local library, I saw that they had recently purchased the DVD release of this film. Which I'm extremely glad for, because the cinematography is of a stunning depth and quality that an old VHS copy could never replicate.<br /><br />And speaking of the cinematography, I must single it out as far and above the most stunning aspect of this film. As a photographer who pursues very nearly the exact visual style portrayed in \"The Stone Boy\", I'm a firm believer in the fact that a great cinematographer can almost single-handedly carry a film. Here, he has a lot of help from an extremely talented cast, and a director who understands perfectly what the story needs. But to have Juan Ruiz Anchía behind the camera makes virtually every scene something of beauty. And you can almost never say that. Most films would never even expect such a thing of you. Scene after scene captures some detail, some little bit of visual magic that takes your breath away.<br /><br />The director, Christopher Cain, has had a long and interesting career. As far as I can gather, this film is not very representative of it. But, sometimes, to catch a director near the beginnings of his career, before all the big budgets and loss of focus, there's a real subtle magic to be found. Cain steps back in this film, lets things happen with a life of their own, and then ever further. Much like early John Sayles films, characters are given space to breathe, time to talk. Side stories happen because they do, and that's how life is. Cain displays a remarkable, raw, even outright painful understanding of human nature in this film.<br /><br />The acting ties much of this story together. When people talk, when they exist in this film, they do so as actual people, not held back by the fact that they are playing characters. Gina Berriault's script allows immensely talented and respected actors like Wilford Brimley, Robert Duvall, Glenn Close, and Frederic Forrest to spend time simply existing. Whether the things they have to say are minor or of deep significance, it all comes down with the weight of pure reality.<br /><br />When you look at the actors involved, or the great soundtrack by James Horner, it seems strange that such a film be very nearly forgotten. Maybe much of what makes \"The Stone Boy\" what it is was the time period it was made in. There's this 1970s hangover feeling to this picture that reminds me deeply of my own childhood. People talk of the 80s in terms of modern styles and music, but that's not the 80s I lived in or remember. The look of the images, the understated and dark knowing quality of the acting, and the overall result should get under the skin of any person who grew up in or near this era of time in North America. I see myself in this. I see how I saw the world. And a film like \"The Stone Boy\" sees the world for how it truly is.<br /><br />For more of this feeling, please see:<br /><br />The Black Stallion (1979), Never Cry Wolf (1983), Tender Mercies (1983), Testament (1983), Places in the Heart (1984), Matewan (1987), High Tide (1987), Driving Miss Daisy (1989), The Secret Garden (1993), The Secret of Roan Inish (1994), Wendy and Lucy (2008)\"\"\"\n",
        "# test_sentence=\"\"\"A typical romp through Cheech and Chong's reality which includes drugs, singing, more drugs, cars and driving, even more drugs, Pee Wee, aliens, gasoline, laundry, stand up comedy, surprisingly more drugs and SPACE COKE !!. It is not as coherent or plausible as Up in Smoke but it still is incredibly funny, without becoming as strange as Nice Dreams. There are some classic scenes, which include the opening scene where they get some gas for their car and the drive to work. Also funny is Cheech's song (Mexican-Americans) and Chong's follow up song. Another notable scene is the welfare office scene with Jones (human noise machine), from the Police Academy series, and the old laughing man. All in all, this is a great follow up to Up in Smoke and is quite watchable when sober or not.<br /><br />-Celluloid RehabDELIMETER1\n",
        "# OK heres what I say: <br /><br />The movie was excellent. I am a huge Nancy fan and I have read all 1-56 original books and I went on to read more. I am now on 96. Beware of villains giving this movie a lower grade than it should have. All clues point to a wonderful movie! I loved the whole thing. So what Nancy is in current time. She is still old fashioned like she is in the books! People who haven't read more than 5 books are complaining about the view of Nancy. I have read all of them and I think Emma is perfect and that Nancy was perfect. I found parts of the movie spooky. I loved the exciting car chases and get aways. I loved the clues. I solved the mystery myself! It was really wonderful. I suggest you go see it since people who have been complaining know nothing of A what a good movie is and B about Nancy Drew. Go see it. It may not be Oscar worthy but its really a good movie\"\"\"\n",
        "# test_sentence=\"\"\"I wrote spoiler alert, but there's not really much that can be spoiled. It's like spoiling rotten meat. This movie is probably the worst I've ever seen. Not because of the actors or the special effects, but because of the sheer number of mistakes, both factual and physical. First of all, the MIGs aren't actually MIGs at all. They're Mirages, and they're French. And how the heck can Doug's dad withstand the maneuvers his son makes to fight off the \"MIGs\" without a g-suit? And why would Chappy try to board his plane without a g-suit? And how could Doug defeat the enemy pilot ace with such ease? Anyway, I did not like this movie. And the worst part is that it has 3 sequels, the latest one from as late as 1995. Now that's scary.\"\"\"\n",
        "\n",
        "test_sentence=\"\"\" The movie was terrilbe\"\"\"\n",
        "seqs=[]\n",
        "\n",
        "for word in test_sentence.split():\n",
        "    if word in word2index.keys():\n",
        "      seqs.append(word2index[word])\n",
        "    else:\n",
        "      seqs.append(word2index['UNK'])\n",
        "# print(seqs)\n",
        "new_X[0]=seqs\n",
        "new_X=sequence.pad_sequences(new_X,maxlen=MAX_SENTENCE_LENGTH)\n",
        "y=model.predict(new_X)\n",
        "label=label_list[np.argmax(y)]\n",
        "print(label)"
      ],
      "execution_count": 19,
      "outputs": [
        {
          "output_type": "stream",
          "text": [
            "0\n"
          ],
          "name": "stdout"
        }
      ]
    }
  ]
}