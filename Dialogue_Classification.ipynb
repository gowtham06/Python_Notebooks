{
 "cells": [
  {
   "cell_type": "markdown",
   "metadata": {},
   "source": [
    "Preprocessing steps :- Including data creation etc.\n",
    "Creating a tab separated dataset file with the format :-\n",
    "Dialogue act label \\t Sentence"
   ]
  },
  {
   "cell_type": "code",
   "execution_count": 2,
   "metadata": {},
   "outputs": [],
   "source": [
    "\n",
    "import os \n",
    "from nltk.corpus import nps_chat as nps\n",
    "def get_dialogue_data(output_file):\n",
    "    open(output_file,'w').close();\n",
    "    posts=nps.xml_posts()\n",
    "    with open(output_file,'a') as fileWrite:\n",
    "        for eachPost in posts:\n",
    "            fileWrite.write(eachPost.get('class').lower()+'\\t'+eachPost.text)\n",
    "            fileWrite.write('\\n')\n",
    "DATA_DIR= os.getcwd()\n",
    "DATA_FILE='dialogues.txt'  \n",
    "get_dialogue_data(os.path.join(DATA_DIR,DATA_FILE))"
   ]
  },
  {
   "cell_type": "code",
   "execution_count": null,
   "metadata": {},
   "outputs": [],
   "source": [
    "Importing all the dependendent packages from keras, sklearn, matplot and nltk"
   ]
  },
  {
   "cell_type": "code",
   "execution_count": 3,
   "metadata": {},
   "outputs": [
    {
     "name": "stderr",
     "output_type": "stream",
     "text": [
      "/Users/gowthamkannan/anaconda3/lib/python3.6/site-packages/h5py/__init__.py:36: FutureWarning: Conversion of the second argument of issubdtype from `float` to `np.floating` is deprecated. In future, it will be treated as `np.float64 == np.dtype(float).type`.\n",
      "  from ._conv import register_converters as _register_converters\n",
      "Using TensorFlow backend.\n",
      "/Users/gowthamkannan/anaconda3/lib/python3.6/importlib/_bootstrap.py:219: RuntimeWarning: compiletime version 3.5 of module 'tensorflow.python.framework.fast_tensor_util' does not match runtime version 3.6\n",
      "  return f(*args, **kwds)\n"
     ]
    }
   ],
   "source": [
    "from keras.layers.core import Activation, Dense, Dropout, SpatialDropout1D\n",
    "from keras.layers.embeddings import Embedding\n",
    "from keras.layers.recurrent import LSTM\n",
    "from keras.models import Sequential\n",
    "from keras.preprocessing import sequence\n",
    "from keras.layers import Bidirectional\n",
    "from sklearn.model_selection import train_test_split\n",
    "import collections\n",
    "import matplotlib.pyplot as plt\n",
    "import nltk\n",
    "import numpy as np\n"
   ]
  },
  {
   "cell_type": "code",
   "execution_count": null,
   "metadata": {},
   "outputs": [],
   "source": [
    "Creating the vocabulary, maximum sentence length etc."
   ]
  },
  {
   "cell_type": "code",
   "execution_count": 4,
   "metadata": {},
   "outputs": [
    {
     "name": "stdout",
     "output_type": "stream",
     "text": [
      "['bye', 'accept', 'ynquestion', 'yanswer', 'emphasis', 'statement', 'other', 'whquestion', 'nanswer', 'greet', 'clarify', 'continuer', 'emotion', 'reject', 'system']\n",
      "87\n"
     ]
    }
   ],
   "source": [
    "max_len = 0\n",
    "word_freqs = collections.Counter()\n",
    "num_recs = 0\n",
    "# DATA_DIR='/Users/gowthamkannan/Desktop/Assignments/Computational_Linguistics/Assignment_2/pos_tagger/data'\n",
    "# DATA_FILE='dialogues.txt'\n",
    "ftrain = open(os.path.join(DATA_DIR, DATA_FILE), 'rb')\n",
    "label_list=[]\n",
    "for line in ftrain:\n",
    "    label, sentence = line.strip().split(b'\\t')\n",
    "    \n",
    "#     print(label,sentence)\n",
    "    words = nltk.word_tokenize(sentence.decode(\"ascii\", \"ignore\").lower())\n",
    "    label=label.decode(\"ascii\",\"ignore\").lower()\n",
    "    label_list.append(label)\n",
    "    if len(words) > max_len:\n",
    "        max_len = len(words)\n",
    "    for word in words:\n",
    "        word_freqs[word] += 1\n",
    "    num_recs += 1\n",
    "# print(word_freqs)\n",
    "label_list=list(set(label_list))\n",
    "nos_classes=len(label_list)\n",
    "# print(len(label_list))\n",
    "ftrain.close()\n",
    "MAX_FEATURES=len(word_freqs)\n",
    "MAX_SENTENCE_LENGTH=max_len\n",
    "print(MAX_SENTENCE_LENGTH)"
   ]
  },
  {
   "cell_type": "markdown",
   "metadata": {},
   "source": [
    "Creating the word-index and index-word dictionary for the embedding layer to use."
   ]
  },
  {
   "cell_type": "code",
   "execution_count": 5,
   "metadata": {},
   "outputs": [],
   "source": [
    "vocab_size = min(MAX_FEATURES, len(word_freqs)) + 2\n",
    "word2index = {x[0]: i+2 for i, x in\n",
    "enumerate(word_freqs.most_common(MAX_FEATURES))}\n",
    "word2index[\"PAD\"] = 0\n",
    "word2index[\"UNK\"] = 1\n",
    "index2word = {v:k for k, v in word2index.items()}"
   ]
  },
  {
   "cell_type": "markdown",
   "metadata": {},
   "source": [
    "Type casting the input text to index of the word so that the tensor can be fed to neural network model. The below code also builds the output vector as a tensor."
   ]
  },
  {
   "cell_type": "code",
   "execution_count": 6,
   "metadata": {},
   "outputs": [
    {
     "name": "stdout",
     "output_type": "stream",
     "text": [
      "87\n"
     ]
    }
   ],
   "source": [
    "X = np.empty((num_recs, ), dtype=list)\n",
    "nos_classes=15\n",
    "y = np.zeros((num_recs, nos_classes))\n",
    "i = 0\n",
    "f_train = open(os.path.join(DATA_DIR, DATA_FILE), 'rb')\n",
    "for line in f_train:\n",
    "    label,sentence=line.strip().split(b'\\t')\n",
    "    words = nltk.word_tokenize(sentence.decode(\"ascii\", \"ignore\").lower())\n",
    "    label=label.decode(\"ascii\",\"ignore\").lower()\n",
    "    seqs=[]\n",
    "    l=[0]*nos_classes\n",
    "    for word in words:\n",
    "        if word in word2index.keys():\n",
    "            seqs.append(word2index[word])\n",
    "        else:\n",
    "            seqs.append(word2index['UNK'])\n",
    "    X[i]=seqs\n",
    "    l[label_list.index(label)]=1\n",
    "    y[i]=l\n",
    "    i+=1\n",
    "f_train.close()\n",
    "print(MAX_SENTENCE_LENGTH)\n",
    "\n",
    "X=sequence.pad_sequences(X,maxlen=MAX_SENTENCE_LENGTH)\n",
    "    "
   ]
  },
  {
   "cell_type": "markdown",
   "metadata": {},
   "source": [
    "Spliting the dataset for training and testing."
   ]
  },
  {
   "cell_type": "code",
   "execution_count": 7,
   "metadata": {},
   "outputs": [],
   "source": [
    "Xtrain,Xtest,ytrain,ytest=train_test_split(X,y,test_size=0.2,random_state=42)"
   ]
  },
  {
   "cell_type": "markdown",
   "metadata": {},
   "source": [
    "Initializing the network model using keras."
   ]
  },
  {
   "cell_type": "code",
   "execution_count": 8,
   "metadata": {},
   "outputs": [],
   "source": [
    "EMBEDDING_SIZE=128\n",
    "HIDDEN_LAYER_SIZE=50\n",
    "BATCH_SIZE=32\n",
    "NUM_EPOCHS=7\n",
    "nos_classes=15\n",
    "model=Sequential()\n",
    "model.add(Embedding(vocab_size,EMBEDDING_SIZE,input_length=MAX_SENTENCE_LENGTH))\n",
    "model.add(SpatialDropout1D(0.2))\n",
    "model.add(Bidirectional(LSTM(HIDDEN_LAYER_SIZE,dropout=0.2,recurrent_dropout=0.2)))\n",
    "model.add(Dense(nos_classes, activation='softmax'))\n",
    "model.compile(loss='categorical_crossentropy',\n",
    "  optimizer='adam',\n",
    "  metrics=['accuracy'])\n"
   ]
  },
  {
   "cell_type": "markdown",
   "metadata": {},
   "source": [
    "Training the model."
   ]
  },
  {
   "cell_type": "code",
   "execution_count": 10,
   "metadata": {},
   "outputs": [
    {
     "name": "stdout",
     "output_type": "stream",
     "text": [
      "Train on 8453 samples, validate on 2114 samples\n",
      "Epoch 1/7\n",
      "8453/8453 [==============================] - 77s 9ms/step - loss: 1.3101 - acc: 0.6230 - val_loss: 0.8991 - val_acc: 0.7488\n",
      "Epoch 2/7\n",
      "8453/8453 [==============================] - 64s 8ms/step - loss: 0.7533 - acc: 0.7929 - val_loss: 0.7335 - val_acc: 0.7923\n",
      "Epoch 3/7\n",
      "8453/8453 [==============================] - 68s 8ms/step - loss: 0.5551 - acc: 0.8502 - val_loss: 0.6946 - val_acc: 0.8146\n",
      "Epoch 4/7\n",
      "8453/8453 [==============================] - 68s 8ms/step - loss: 0.4214 - acc: 0.8877 - val_loss: 0.6855 - val_acc: 0.8174\n",
      "Epoch 5/7\n",
      "8453/8453 [==============================] - 61s 7ms/step - loss: 0.3356 - acc: 0.9045 - val_loss: 0.6884 - val_acc: 0.8193\n",
      "Epoch 6/7\n",
      "8453/8453 [==============================] - 74s 9ms/step - loss: 0.2711 - acc: 0.9232 - val_loss: 0.7111 - val_acc: 0.8212\n",
      "Epoch 7/7\n",
      "8453/8453 [==============================] - 66s 8ms/step - loss: 0.2210 - acc: 0.9375 - val_loss: 0.7408 - val_acc: 0.8193\n"
     ]
    }
   ],
   "source": [
    "history=model.fit(Xtrain,ytrain,batch_size=BATCH_SIZE,epochs=NUM_EPOCHS,validation_data=(Xtest,ytest))"
   ]
  },
  {
   "cell_type": "markdown",
   "metadata": {},
   "source": [
    "Plotting the performace of the model in the trainig."
   ]
  },
  {
   "cell_type": "code",
   "execution_count": 21,
   "metadata": {},
   "outputs": [
    {
     "data": {
      "image/png": "[encoded data removed]",
      "text/plain": [
       "<matplotlib.figure.Figure at 0x1a1beb4be0>"
      ]
     },
     "metadata": {},
     "output_type": "display_data"
    }
   ],
   "source": [
    "plt.subplot(211)\n",
    "plt.title(\"Accuracy\")\n",
    "plt.plot(history.history[\"acc\"], color=\"g\", label=\"Train\")\n",
    "plt.plot(history.history[\"val_acc\"], color=\"b\", label=\"Validation\")\n",
    "plt.legend(loc=\"best\")\n",
    "plt.subplot(212)\n",
    "plt.title(\"Loss\")\n",
    "plt.plot(history.history[\"loss\"], color=\"g\", label=\"Train\")\n",
    "plt.plot(history.history[\"val_loss\"], color=\"b\", label=\"Validation\")\n",
    "plt.legend(loc=\"best\")\n",
    "plt.tight_layout()\n",
    "plt.show()"
   ]
  },
  {
   "cell_type": "markdown",
   "metadata": {},
   "source": [
    "To get the label of a text fed to the network after training. "
   ]
  },
  {
   "cell_type": "code",
   "execution_count": 17,
   "metadata": {},
   "outputs": [
    {
     "name": "stdout",
     "output_type": "stream",
     "text": [
      "[1, 1]\n"
     ]
    }
   ],
   "source": [
    "new_X = np.empty((1, ), dtype=list)\n",
    "test_sentence=\"yo, 10-19-20sUser133\"\n",
    "seqs=[]\n",
    "for word in test_sentence.split():\n",
    "    if word in word2index.keys():\n",
    "        seqs.append(word2index[word])\n",
    "    else:\n",
    "        seqs.append(word2index['UNK'])\n",
    "print(seqs)\n",
    "new_X[0]=seqs\n",
    "new_X=sequence.pad_sequences(new_X,maxlen=MAX_SENTENCE_LENGTH)\n",
    "y=model.predict(new_X)\n",
    "label=label_list[np.argmax(y)]\n",
    "print(label)"
   ]
  },
  {
   "cell_type": "code",
   "execution_count": null,
   "metadata": {},
   "outputs": [],
   "source": []
  }
 ],
 "metadata": {
  "kernelspec": {
   "display_name": "Python 3",
   "language": "python",
   "name": "python3"
  },
  "language_info": {
   "codemirror_mode": {
    "name": "ipython",
    "version": 3
   },
   "file_extension": ".py",
   "mimetype": "text/x-python",
   "name": "python",
   "nbconvert_exporter": "python",
   "pygments_lexer": "ipython3",
   "version": "3.6.4"
  }
 },
 "nbformat": 4,
 "nbformat_minor": 2
}
