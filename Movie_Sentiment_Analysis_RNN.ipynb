{
 "cells": [
  {
   "cell_type": "code",
   "execution_count": 6,
   "metadata": {},
   "outputs": [],
   "source": [
    "import os"
   ]
  },
  {
   "cell_type": "code",
   "execution_count": 2,
   "metadata": {},
   "outputs": [],
   "source": [
    "file_name='review_text.txt'\n",
    "def clean_file(file_name):\n",
    "    fileRead=open(file_name,'w').close()\n",
    "def write_file(file_name,line):\n",
    "    with open(file_name,'a') as fileWrite:\n",
    "        fileWrite.write(line)\n",
    "        fileWrite.write('\\n')\n"
   ]
  },
  {
   "cell_type": "markdown",
   "metadata": {},
   "source": [
    "No need to run this code. This is a preproceing script to generate the text file \"review_text.txt\""
   ]
  },
  {
   "cell_type": "code",
   "execution_count": 3,
   "metadata": {},
   "outputs": [
    {
     "ename": "NameError",
     "evalue": "name 'os' is not defined",
     "output_type": "error",
     "traceback": [
      "\u001b[0;31m---------------------------------------------------------------------------\u001b[0m",
      "\u001b[0;31mNameError\u001b[0m                                 Traceback (most recent call last)",
      "\u001b[0;32m<ipython-input-3-b15b230d80d4>\u001b[0m in \u001b[0;36m<module>\u001b[0;34m()\u001b[0m\n\u001b[0;32m----> 1\u001b[0;31m \u001b[0mcurrent_dir\u001b[0m\u001b[0;34m=\u001b[0m \u001b[0mos\u001b[0m\u001b[0;34m.\u001b[0m\u001b[0mgetcwd\u001b[0m\u001b[0;34m(\u001b[0m\u001b[0;34m)\u001b[0m\u001b[0;34m\u001b[0m\u001b[0m\n\u001b[0m\u001b[1;32m      2\u001b[0m \u001b[0mpos_train_dir\u001b[0m\u001b[0;34m=\u001b[0m\u001b[0mos\u001b[0m\u001b[0;34m.\u001b[0m\u001b[0mpath\u001b[0m\u001b[0;34m.\u001b[0m\u001b[0mjoin\u001b[0m\u001b[0;34m(\u001b[0m\u001b[0mcurrent_dir\u001b[0m\u001b[0;34m,\u001b[0m\u001b[0;34m'Data'\u001b[0m\u001b[0;34m,\u001b[0m\u001b[0;34m'Train'\u001b[0m\u001b[0;34m,\u001b[0m\u001b[0;34m'pos'\u001b[0m\u001b[0;34m)\u001b[0m\u001b[0;34m\u001b[0m\u001b[0m\n\u001b[1;32m      3\u001b[0m \u001b[0mneg_train_dir\u001b[0m\u001b[0;34m=\u001b[0m\u001b[0mos\u001b[0m\u001b[0;34m.\u001b[0m\u001b[0mpath\u001b[0m\u001b[0;34m.\u001b[0m\u001b[0mjoin\u001b[0m\u001b[0;34m(\u001b[0m\u001b[0mcurrent_dir\u001b[0m\u001b[0;34m,\u001b[0m\u001b[0;34m'Data'\u001b[0m\u001b[0;34m,\u001b[0m\u001b[0;34m'Train'\u001b[0m\u001b[0;34m,\u001b[0m\u001b[0;34m'neg'\u001b[0m\u001b[0;34m)\u001b[0m\u001b[0;34m\u001b[0m\u001b[0m\n\u001b[1;32m      4\u001b[0m \u001b[0mpos_test_dir\u001b[0m\u001b[0;34m=\u001b[0m\u001b[0mos\u001b[0m\u001b[0;34m.\u001b[0m\u001b[0mpath\u001b[0m\u001b[0;34m.\u001b[0m\u001b[0mjoin\u001b[0m\u001b[0;34m(\u001b[0m\u001b[0mcurrent_dir\u001b[0m\u001b[0;34m,\u001b[0m\u001b[0;34m'Data'\u001b[0m\u001b[0;34m,\u001b[0m\u001b[0;34m'Test'\u001b[0m\u001b[0;34m,\u001b[0m\u001b[0;34m'pos'\u001b[0m\u001b[0;34m)\u001b[0m\u001b[0;34m\u001b[0m\u001b[0m\n\u001b[1;32m      5\u001b[0m \u001b[0mneg_test_dir\u001b[0m\u001b[0;34m=\u001b[0m\u001b[0mos\u001b[0m\u001b[0;34m.\u001b[0m\u001b[0mpath\u001b[0m\u001b[0;34m.\u001b[0m\u001b[0mjoin\u001b[0m\u001b[0;34m(\u001b[0m\u001b[0mcurrent_dir\u001b[0m\u001b[0;34m,\u001b[0m\u001b[0;34m'Data'\u001b[0m\u001b[0;34m,\u001b[0m\u001b[0;34m'Test'\u001b[0m\u001b[0;34m,\u001b[0m\u001b[0;34m'neg'\u001b[0m\u001b[0;34m)\u001b[0m\u001b[0;34m\u001b[0m\u001b[0m\n",
      "\u001b[0;31mNameError\u001b[0m: name 'os' is not defined"
     ]
    }
   ],
   "source": [
    "current_dir= os.getcwd()\n",
    "pos_train_dir=os.path.join(current_dir,'Data','Train','pos')\n",
    "neg_train_dir=os.path.join(current_dir,'Data','Train','neg')\n",
    "pos_test_dir=os.path.join(current_dir,'Data','Test','pos')\n",
    "neg_test_dir=os.path.join(current_dir,'Data','Test','neg')\n",
    "clean_file(file_name)\n",
    "for file in os.listdir(pos_train_dir):\n",
    "    with open(os.path.join(pos_train_dir,file),'r') as fileRead:\n",
    "        line=fileRead.read()\n",
    "        write_file(file_name,line+'DELIMETER'+str(1))\n",
    "for file in os.listdir(neg_train_dir):\n",
    "    with open(os.path.join(neg_train_dir,file),'r') as fileRead:\n",
    "        line=fileRead.read()\n",
    "        write_file(file_name,line+'DELIMETER'+str(0))\n",
    "for file in os.listdir(pos_test_dir):\n",
    "    with open(os.path.join(pos_test_dir,file),'r') as fileRead:\n",
    "        line=fileRead.read()\n",
    "        write_file(file_name,line+'DELIMETER'+str(1))\n",
    "for file in os.listdir(neg_test_dir):\n",
    "    with open(os.path.join(neg_test_dir,file),'r') as fileRead:\n",
    "        line=fileRead.read()\n",
    "        write_file(file_name,line+'DELIMETER'+str(0))\n",
    "\n"
   ]
  },
  {
   "cell_type": "markdown",
   "metadata": {},
   "source": [
    "Importing all the keras and tensorflow layers."
   ]
  },
  {
   "cell_type": "code",
   "execution_count": 10,
   "metadata": {},
   "outputs": [],
   "source": [
    "from keras.layers.core import Activation, Dense, Dropout, SpatialDropout1D\n",
    "from keras.layers.embeddings import Embedding\n",
    "from keras.layers.recurrent import LSTM\n",
    "from keras.models import Sequential\n",
    "from keras.preprocessing import sequence\n",
    "from keras.preprocessing.text import Tokenizer\n",
    "from keras.layers import Bidirectional\n",
    "from sklearn.model_selection import train_test_split\n",
    "import collections\n",
    "import matplotlib.pyplot as plt\n",
    "import nltk\n",
    "import numpy as np\n",
    "import os\n"
   ]
  },
  {
   "cell_type": "markdown",
   "metadata": {},
   "source": [
    "Getting the stop words."
   ]
  },
  {
   "cell_type": "code",
   "execution_count": 13,
   "metadata": {},
   "outputs": [
    {
     "name": "stdout",
     "output_type": "stream",
     "text": [
      "<class 'list'>\n"
     ]
    }
   ],
   "source": [
    "from nltk.corpus import stopwords\n",
    "stopwords_list=stopwords.words('english')\n",
    "print(type(stopwords_list))\n",
    "file_name='review_text.txt'\n",
    "current_dir= os.getcwd()"
   ]
  },
  {
   "cell_type": "markdown",
   "metadata": {},
   "source": [
    "Generating the frequency word dictionary "
   ]
  },
  {
   "cell_type": "code",
   "execution_count": 14,
   "metadata": {},
   "outputs": [],
   "source": [
    "\n",
    "max_len = 0\n",
    "word_freqs = collections.Counter()\n",
    "num_recs = 0\n",
    "# DATA_DIR='/Users/gowthamkannan/Desktop/Assignments/Computational_Linguistics/Assignment_2/pos_tagger/data'\n",
    "# DATA_FILE='dialogues.txt'\n",
    "ftrain = open(os.path.join(current_dir, file_name), 'rb')\n",
    "label_list=[]\n",
    "for line in ftrain:\n",
    "    words=[]\n",
    "#     sentence=line.strip().split('\\t')[0]\n",
    "#     label=line.strip().split('\\t')[1]\n",
    "    sentence=line.strip().split(b'DELIMETER')[0]\n",
    "    label=line.strip().split(b'DELIMETER')[1]\n",
    "    \n",
    "#     print(label,sentence)\n",
    "    words = nltk.word_tokenize(sentence.decode(\"ascii\", \"ignore\").lower())\n",
    "    label=label.decode(\"ascii\",\"ignore\").lower()\n",
    "    label_list.append(label)\n",
    "    if len(words) > max_len:\n",
    "        max_len = len(words)\n",
    "    for word in words:\n",
    "        word_freqs[word] += 1\n",
    "    num_recs += 1\n",
    "# print(word_freqs)\n",
    "label_list=list(set(label_list))\n",
    "nos_classes=len(label_list)\n",
    "# print(len(label_list))\n",
    "ftrain.close()\n",
    "MAX_FEATURES=5000\n",
    "MAX_SENTENCE_LENGTH=500\n"
   ]
  },
  {
   "cell_type": "markdown",
   "metadata": {},
   "source": [
    "Generating the word2index dictionary"
   ]
  },
  {
   "cell_type": "code",
   "execution_count": 15,
   "metadata": {},
   "outputs": [],
   "source": [
    "vocab_size = min(MAX_FEATURES, len(word_freqs)) + 2\n",
    "word2index = {x[0]: i+2 for i, x in\n",
    "enumerate(word_freqs.most_common(MAX_FEATURES))}\n",
    "word2index[\"PAD\"] = 0\n",
    "word2index[\"UNK\"] = 1\n",
    "index2word = {v:k for k, v in word2index.items()}"
   ]
  },
  {
   "cell_type": "markdown",
   "metadata": {},
   "source": [
    "Generating the input and output tensor for the model"
   ]
  },
  {
   "cell_type": "code",
   "execution_count": 16,
   "metadata": {},
   "outputs": [
    {
     "name": "stdout",
     "output_type": "stream",
     "text": [
      "500\n"
     ]
    }
   ],
   "source": [
    "X = np.empty((num_recs, ), dtype=list)\n",
    "nos_classes=2\n",
    "y = np.zeros((num_recs, nos_classes))\n",
    "i = 0\n",
    "f_train = open(os.path.join(current_dir, file_name), 'rb')\n",
    "for line in f_train:\n",
    "#     label,sentence=line.strip().split('\\t')\n",
    "    words=[]\n",
    "    sentence=line.strip().split(b'DELIMETER')[0]\n",
    "    label=line.strip().split(b'DELIMETER')[1]\n",
    "    words = nltk.word_tokenize(sentence.decode(\"ascii\", \"ignore\").lower())\n",
    "    label=label.decode(\"ascii\",\"ignore\").lower()\n",
    "    label_list.append(label)\n",
    "    seqs=[]\n",
    "    l=[0]*nos_classes\n",
    "    for word in words:\n",
    "        if word in word2index.keys():\n",
    "            seqs.append(word2index[word])\n",
    "        else:\n",
    "            seqs.append(word2index['UNK'])\n",
    "    X[i]=seqs\n",
    "    l[label_list.index(label)]=1\n",
    "    y[i]=l\n",
    "    i+=1\n",
    "f_train.close()\n",
    "print(MAX_SENTENCE_LENGTH)\n",
    "\n",
    "X=sequence.pad_sequences(X,maxlen=MAX_SENTENCE_LENGTH)"
   ]
  },
  {
   "cell_type": "markdown",
   "metadata": {},
   "source": [
    "Spliting the dataset into training and testing using train_test_split of sklearn"
   ]
  },
  {
   "cell_type": "code",
   "execution_count": 21,
   "metadata": {},
   "outputs": [],
   "source": [
    "Xtrain,Xtest,ytrain,ytest=train_test_split(X,y,test_size=0.2)"
   ]
  },
  {
   "cell_type": "markdown",
   "metadata": {},
   "source": [
    "Initializing the network."
   ]
  },
  {
   "cell_type": "code",
   "execution_count": 23,
   "metadata": {},
   "outputs": [],
   "source": [
    "EMBEDDING_SIZE=128\n",
    "HIDDEN_LAYER_SIZE=30\n",
    "BATCH_SIZE=100\n",
    "NUM_EPOCHS=10\n",
    "model=Sequential()\n",
    "model.add(Embedding(vocab_size,EMBEDDING_SIZE,input_length=MAX_SENTENCE_LENGTH))\n",
    "model.add(SpatialDropout1D(0.2))\n",
    "model.add(LSTM(HIDDEN_LAYER_SIZE,dropout=0.2,recurrent_dropout=0.2))\n",
    "model.add(Dense(nos_classes, activation='sigmoid'))\n",
    "model.compile(loss='binary_crossentropy',\n",
    "  optimizer='adam',\n",
    "  metrics=['accuracy'])"
   ]
  },
  {
   "cell_type": "markdown",
   "metadata": {},
   "source": [
    "Fitting the model."
   ]
  },
  {
   "cell_type": "code",
   "execution_count": 24,
   "metadata": {},
   "outputs": [
    {
     "name": "stdout",
     "output_type": "stream",
     "text": [
      "Train on 40000 samples, validate on 10000 samples\n",
      "Epoch 1/10\n",
      "40000/40000 [==============================] - 529s 13ms/step - loss: 0.5157 - acc: 0.7487 - val_loss: 0.3840 - val_acc: 0.8389\n",
      "Epoch 2/10\n",
      "40000/40000 [==============================] - 541s 14ms/step - loss: 0.4046 - acc: 0.8263 - val_loss: 0.3980 - val_acc: 0.8351\n",
      "Epoch 3/10\n",
      "40000/40000 [==============================] - 559s 14ms/step - loss: 0.3737 - acc: 0.8424 - val_loss: 0.3467 - val_acc: 0.8565\n",
      "Epoch 4/10\n",
      "40000/40000 [==============================] - 553s 14ms/step - loss: 0.3683 - acc: 0.8440 - val_loss: 0.3868 - val_acc: 0.8303\n",
      "Epoch 5/10\n",
      "40000/40000 [==============================] - 530s 13ms/step - loss: 0.3354 - acc: 0.8633 - val_loss: 0.3317 - val_acc: 0.8622\n",
      "Epoch 6/10\n",
      "40000/40000 [==============================] - 562s 14ms/step - loss: 0.3126 - acc: 0.8729 - val_loss: 0.3165 - val_acc: 0.8710\n",
      "Epoch 7/10\n",
      "40000/40000 [==============================] - 950s 24ms/step - loss: 0.3813 - acc: 0.8394 - val_loss: 0.5985 - val_acc: 0.6812\n",
      "Epoch 8/10\n",
      "40000/40000 [==============================] - 502s 13ms/step - loss: 0.5348 - acc: 0.7250 - val_loss: 0.4366 - val_acc: 0.8093\n",
      "Epoch 9/10\n",
      "40000/40000 [==============================] - 519s 13ms/step - loss: 0.3737 - acc: 0.8421 - val_loss: 0.3714 - val_acc: 0.8384\n",
      "Epoch 10/10\n",
      "40000/40000 [==============================] - 529s 13ms/step - loss: 0.3192 - acc: 0.8671 - val_loss: 0.3369 - val_acc: 0.8640\n"
     ]
    }
   ],
   "source": [
    "history=model.fit(Xtrain,ytrain,batch_size=BATCH_SIZE,epochs=NUM_EPOCHS,validation_data=(Xtest,ytest))"
   ]
  },
  {
   "cell_type": "markdown",
   "metadata": {},
   "source": [
    "Plotting accuracy and loss functions over various iterations."
   ]
  },
  {
   "cell_type": "code",
   "execution_count": 25,
   "metadata": {},
   "outputs": [
    {
     "data": {
      "image/png": "[encoded data removed]",
      "text/plain": [
       "<matplotlib.figure.Figure at 0x1a24604da0>"
      ]
     },
     "metadata": {},
     "output_type": "display_data"
    }
   ],
   "source": [
    "plt.subplot(211)\n",
    "plt.title(\"Accuracy\")\n",
    "plt.plot(history.history[\"acc\"], color=\"g\", label=\"Train\")\n",
    "plt.plot(history.history[\"val_acc\"], color=\"b\", label=\"Validation\")\n",
    "plt.legend(loc=\"best\")\n",
    "plt.subplot(212)\n",
    "plt.title(\"Loss\")\n",
    "plt.plot(history.history[\"loss\"], color=\"g\", label=\"Train\")\n",
    "plt.plot(history.history[\"val_loss\"], color=\"b\", label=\"Validation\")\n",
    "plt.legend(loc=\"best\")\n",
    "plt.tight_layout()\n",
    "plt.show()"
   ]
  },
  {
   "cell_type": "markdown",
   "metadata": {},
   "source": [
    "Testing the model with new input text."
   ]
  },
  {
   "cell_type": "code",
   "execution_count": 32,
   "metadata": {},
   "outputs": [
    {
     "name": "stdout",
     "output_type": "stream",
     "text": [
      "[[0.09166136 0.88186467]]\n",
      "0\n"
     ]
    }
   ],
   "source": [
    "new_X = np.empty((1, ), dtype=list)\n",
    "test_sentence=\"this movie absolutely terrible ..not only was the acting awful but so was the sleep got while this movie played..this movie achieved the all powerful goal of crap ..i watched this movie thinking my 5$ wouldn't b in vein .but i was very wrong ..i guarantee u r better off just reading what i have to say about this unbelievably horrible movie b4 ..puttin yourself in the way of this dignity depriving movie ..i give it a negative 1 for trying..but no please no don't watch this movie..i had friends who joined me for this film..shortly after they were no longer found this movie actually will make u end your life please please don't see it i beg of u. if u see this movie make sure u destroy all copies because this movie is a spawn of Satan.\"\n",
    "# test_sentence=\"\"\"It's a strange feeling to sit alone in a theater occupied by parents and their rollicking kids. I felt like instead of a movie ticket, I should have been given a NAMBLA membership.<br /><br />Based upon Thomas Rockwell's respected Book, How To Eat Fried Worms starts like any children's story: moving to a new town. The new kid, fifth grader Billy Forrester was once popular, but has to start anew. Making friends is never easy, especially when the only prospect is Poindexter Adam. Or Erica, who at 4 1/2 feet, is a giant.<br /><br />Further complicating things is Joe the bully. His freckled face and sleeveless shirts are daunting. He antagonizes kids with the Death Ring: a Crackerjack ring that is rumored to kill you if you're punched with it. But not immediately. No, the death ring unleashes a poison that kills you in the eight grade.<br /><br />Joe and his axis of evil welcome Billy by smuggling a handful of slimy worms into his thermos. Once discovered, Billy plays it cool, swearing that he eats worms all the time. Then he throws them at Joe's face. Ewww! To win them over, Billy reluctantly bets that he can eat 10 worms. Fried, boiled, marinated in hot sauce, squashed and spread on a peanut butter sandwich. Each meal is dubbed an exotic name like the \"Radioactive Slime Delight,\" in which the kids finally live out their dream of microwaving a living organism.<br /><br />If you've ever met me, you'll know that I have an uncontrollably hearty laugh. I felt like a creep erupting at a toddler whining that his \"dilly dick\" hurts. But Fried Worms is wonderfully disgusting. Like a G-rated Farrelly brothers film, it is both vomitous and delightful.<br /><br />Writer/director Bob Dolman is also a savvy storyteller. To raise the stakes the worms must be consumed by 7 pm. In addition Billy holds a dark secret: he has an ultra-sensitive stomach.<br /><br />Dolman also has a keen sense of perspective. With such accuracy, he draws on children's insecurities and tendency to exaggerate mundane dilemmas.<br /><br />If you were to hyperbolize this movie the way kids do their quandaries, you will see that it is essentially about war. Freedom-fighter and freedom-hater use pubescent boys as pawns in proxy wars, only to learn a valuable lesson in unity. International leaders can learn a thing or two about global peacekeeping from Fried Worms.<br /><br />At the end of the film, I was comforted when two chaperoning mothers behind me, looked at each other with befuddlement and agreed, \"That was a great movie.\" Great, now I won't have to register myself in any lawful databases\"\"\"\n",
    "test_sentence=\"\"\"It's hard to say sometimes why exactly a film is so effective. From the moment I first came across \"The Stone Boy\", something told me it would be a great film. In spite of that, it seemed very unlikely that I'd ever have the opportunity to actually see it for myself. Then, one day, while looking through the online catalogue of my local library, I saw that they had recently purchased the DVD release of this film. Which I'm extremely glad for, because the cinematography is of a stunning depth and quality that an old VHS copy could never replicate.<br /><br />And speaking of the cinematography, I must single it out as far and above the most stunning aspect of this film. As a photographer who pursues very nearly the exact visual style portrayed in \"The Stone Boy\", I'm a firm believer in the fact that a great cinematographer can almost single-handedly carry a film. Here, he has a lot of help from an extremely talented cast, and a director who understands perfectly what the story needs. But to have Juan Ruiz Anchía behind the camera makes virtually every scene something of beauty. And you can almost never say that. Most films would never even expect such a thing of you. Scene after scene captures some detail, some little bit of visual magic that takes your breath away.<br /><br />The director, Christopher Cain, has had a long and interesting career. As far as I can gather, this film is not very representative of it. But, sometimes, to catch a director near the beginnings of his career, before all the big budgets and loss of focus, there's a real subtle magic to be found. Cain steps back in this film, lets things happen with a life of their own, and then ever further. Much like early John Sayles films, characters are given space to breathe, time to talk. Side stories happen because they do, and that's how life is. Cain displays a remarkable, raw, even outright painful understanding of human nature in this film.<br /><br />The acting ties much of this story together. When people talk, when they exist in this film, they do so as actual people, not held back by the fact that they are playing characters. Gina Berriault's script allows immensely talented and respected actors like Wilford Brimley, Robert Duvall, Glenn Close, and Frederic Forrest to spend time simply existing. Whether the things they have to say are minor or of deep significance, it all comes down with the weight of pure reality.<br /><br />When you look at the actors involved, or the great soundtrack by James Horner, it seems strange that such a film be very nearly forgotten. Maybe much of what makes \"The Stone Boy\" what it is was the time period it was made in. There's this 1970s hangover feeling to this picture that reminds me deeply of my own childhood. People talk of the 80s in terms of modern styles and music, but that's not the 80s I lived in or remember. The look of the images, the understated and dark knowing quality of the acting, and the overall result should get under the skin of any person who grew up in or near this era of time in North America. I see myself in this. I see how I saw the world. And a film like \"The Stone Boy\" sees the world for how it truly is.<br /><br />For more of this feeling, please see:<br /><br />The Black Stallion (1979), Never Cry Wolf (1983), Tender Mercies (1983), Testament (1983), Places in the Heart (1984), Matewan (1987), High Tide (1987), Driving Miss Daisy (1989), The Secret Garden (1993), The Secret of Roan Inish (1994), Wendy and Lucy (2008)\"\"\"\n",
    "# test_sentence=\"\"\"A typical romp through Cheech and Chong's reality which includes drugs, singing, more drugs, cars and driving, even more drugs, Pee Wee, aliens, gasoline, laundry, stand up comedy, surprisingly more drugs and SPACE COKE !!. It is not as coherent or plausible as Up in Smoke but it still is incredibly funny, without becoming as strange as Nice Dreams. There are some classic scenes, which include the opening scene where they get some gas for their car and the drive to work. Also funny is Cheech's song (Mexican-Americans) and Chong's follow up song. Another notable scene is the welfare office scene with Jones (human noise machine), from the Police Academy series, and the old laughing man. All in all, this is a great follow up to Up in Smoke and is quite watchable when sober or not.<br /><br />-Celluloid RehabDELIMETER1\n",
    "# OK heres what I say: <br /><br />The movie was excellent. I am a huge Nancy fan and I have read all 1-56 original books and I went on to read more. I am now on 96. Beware of villains giving this movie a lower grade than it should have. All clues point to a wonderful movie! I loved the whole thing. So what Nancy is in current time. She is still old fashioned like she is in the books! People who haven't read more than 5 books are complaining about the view of Nancy. I have read all of them and I think Emma is perfect and that Nancy was perfect. I found parts of the movie spooky. I loved the exciting car chases and get aways. I loved the clues. I solved the mystery myself! It was really wonderful. I suggest you go see it since people who have been complaining know nothing of A what a good movie is and B about Nancy Drew. Go see it. It may not be Oscar worthy but its really a good movie\"\"\"\n",
    "test_sentence='the movie is terrible'\n",
    "seqs=[]\n",
    "for word in test_sentence.split():\n",
    "    if word not in stopwords_list:\n",
    "        if word in word2index.keys():\n",
    "            seqs.append(word2index[word])\n",
    "        else:\n",
    "            seqs.append(word2index['UNK'])\n",
    "# print(seqs)\n",
    "new_X[0]=seqs\n",
    "new_X=sequence.pad_sequences(new_X,maxlen=MAX_SENTENCE_LENGTH)\n",
    "y=model.predict(new_X)\n",
    "print(y)\n",
    "label=label_list[np.argmax(y)]\n",
    "print(label)"
   ]
  }
 ],
 "metadata": {
  "kernelspec": {
   "display_name": "Python 3",
   "language": "python",
   "name": "python3"
  },
  "language_info": {
   "codemirror_mode": {
    "name": "ipython",
    "version": 3
   },
   "file_extension": ".py",
   "mimetype": "text/x-python",
   "name": "python",
   "nbconvert_exporter": "python",
   "pygments_lexer": "ipython3",
   "version": "3.6.4"
  }
 },
 "nbformat": 4,
 "nbformat_minor": 2
}
